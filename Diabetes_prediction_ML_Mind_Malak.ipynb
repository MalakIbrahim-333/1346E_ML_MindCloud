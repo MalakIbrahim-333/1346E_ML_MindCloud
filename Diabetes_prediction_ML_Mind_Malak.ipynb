{
 "cells": [
  {
   "cell_type": "markdown",
   "id": "fb45fa46",
   "metadata": {},
   "source": [
    "# ***Diabetes Prediction — Logistic, Decision Tree & Random Forest***\n",
    " \n",
    "## **This notebook walks through:**\n",
    " 1. **EDA** (Exploratory Data Analysis)\n",
    " 2. **Preprocessing** (Cleaning, Encoding, Scaling, Balancing)\n",
    " 3. **Training** (3 models: Logistic Regression, Decision Tree, Random Forest)\n",
    " 4. **Evaluation** (Confusion Matrix, Classification Report, ROC & AUC curves)**\n"
   ]
  },
  {
   "cell_type": "code",
   "execution_count": null,
   "id": "2cf257f4-fe79-47d4-9f23-461cec0e5a6a",
   "metadata": {
    "execution": {
     "iopub.execute_input": "2025-08-31T19:17:17.455261Z",
     "iopub.status.busy": "2025-08-31T19:17:17.454456Z",
     "iopub.status.idle": "2025-08-31T19:17:17.461258Z",
     "shell.execute_reply": "2025-08-31T19:17:17.460433Z",
     "shell.execute_reply.started": "2025-08-31T19:17:17.455220Z"
    },
    "trusted": true
   },
   "outputs": [
    {
     "name": "stdout",
     "output_type": "stream",
     "text": [
      "Configured train path: /kaggle/input/diabetes/train_Data.csv\n",
      "Configured test path : /kaggle/input/diabetes/test_Data.csv\n"
     ]
    }
   ],
   "source": [
    "import numpy as np\n",
    "import pandas as pd\n",
    "import matplotlib.pyplot as plt\n",
    "import seaborn as sns\n",
    "\n",
    "from sklearn.compose import ColumnTransformer\n",
    "from sklearn.preprocessing import OneHotEncoder, StandardScaler\n",
    "from sklearn.metrics import f1_score, confusion_matrix, classification_report, accuracy_score, roc_auc_score\n",
    "from sklearn.linear_model import LogisticRegression\n",
    "from sklearn.tree import DecisionTreeClassifier\n",
    "from sklearn.ensemble import RandomForestClassifier\n",
    "\n",
    "from imblearn.over_sampling import  SMOTE"
   ]
  },
  {
   "cell_type": "code",
   "execution_count": null,
   "id": "4ce61d5b-5d4a-4c74-a3b4-d3d14b02c5f6",
   "metadata": {
    "execution": {
     "iopub.execute_input": "2025-08-31T19:17:17.462834Z",
     "iopub.status.busy": "2025-08-31T19:17:17.462599Z",
     "iopub.status.idle": "2025-08-31T19:17:17.679297Z",
     "shell.execute_reply": "2025-08-31T19:17:17.678734Z",
     "shell.execute_reply.started": "2025-08-31T19:17:17.462818Z"
    },
    "trusted": true
   },
   "outputs": [
    {
     "name": "stdout",
     "output_type": "stream",
     "text": [
      "Train shape: (80000, 10)\n",
      "Test shape : (20000, 10)\n"
     ]
    },
    {
     "data": {
      "text/html": [
       "<div>\n",
       "<style scoped>\n",
       "    .dataframe tbody tr th:only-of-type {\n",
       "        vertical-align: middle;\n",
       "    }\n",
       "\n",
       "    .dataframe tbody tr th {\n",
       "        vertical-align: top;\n",
       "    }\n",
       "\n",
       "    .dataframe thead th {\n",
       "        text-align: right;\n",
       "    }\n",
       "</style>\n",
       "<table border=\"1\" class=\"dataframe\">\n",
       "  <thead>\n",
       "    <tr style=\"text-align: right;\">\n",
       "      <th></th>\n",
       "      <th>Unnamed: 0</th>\n",
       "      <th>gender</th>\n",
       "      <th>age</th>\n",
       "      <th>hypertension</th>\n",
       "      <th>heart_disease</th>\n",
       "      <th>smoking_history</th>\n",
       "      <th>bmi</th>\n",
       "      <th>HbA1c_level</th>\n",
       "      <th>blood_glucose_level</th>\n",
       "      <th>diabetes</th>\n",
       "    </tr>\n",
       "  </thead>\n",
       "  <tbody>\n",
       "    <tr>\n",
       "      <th>0</th>\n",
       "      <td>0</td>\n",
       "      <td>Female</td>\n",
       "      <td>80.0</td>\n",
       "      <td>0</td>\n",
       "      <td>1</td>\n",
       "      <td>never</td>\n",
       "      <td>25.19</td>\n",
       "      <td>6.6</td>\n",
       "      <td>140</td>\n",
       "      <td>0</td>\n",
       "    </tr>\n",
       "    <tr>\n",
       "      <th>1</th>\n",
       "      <td>1</td>\n",
       "      <td>Female</td>\n",
       "      <td>54.0</td>\n",
       "      <td>0</td>\n",
       "      <td>0</td>\n",
       "      <td>No Info</td>\n",
       "      <td>27.32</td>\n",
       "      <td>6.6</td>\n",
       "      <td>80</td>\n",
       "      <td>0</td>\n",
       "    </tr>\n",
       "    <tr>\n",
       "      <th>2</th>\n",
       "      <td>2</td>\n",
       "      <td>Male</td>\n",
       "      <td>28.0</td>\n",
       "      <td>0</td>\n",
       "      <td>0</td>\n",
       "      <td>never</td>\n",
       "      <td>27.32</td>\n",
       "      <td>5.7</td>\n",
       "      <td>158</td>\n",
       "      <td>0</td>\n",
       "    </tr>\n",
       "    <tr>\n",
       "      <th>3</th>\n",
       "      <td>3</td>\n",
       "      <td>Female</td>\n",
       "      <td>36.0</td>\n",
       "      <td>0</td>\n",
       "      <td>0</td>\n",
       "      <td>current</td>\n",
       "      <td>23.45</td>\n",
       "      <td>5.0</td>\n",
       "      <td>155</td>\n",
       "      <td>0</td>\n",
       "    </tr>\n",
       "    <tr>\n",
       "      <th>4</th>\n",
       "      <td>4</td>\n",
       "      <td>Male</td>\n",
       "      <td>76.0</td>\n",
       "      <td>1</td>\n",
       "      <td>1</td>\n",
       "      <td>current</td>\n",
       "      <td>20.14</td>\n",
       "      <td>4.8</td>\n",
       "      <td>155</td>\n",
       "      <td>0</td>\n",
       "    </tr>\n",
       "  </tbody>\n",
       "</table>\n",
       "</div>"
      ],
      "text/plain": [
       "   Unnamed: 0  gender   age  hypertension  heart_disease smoking_history  \\\n",
       "0           0  Female  80.0             0              1           never   \n",
       "1           1  Female  54.0             0              0         No Info   \n",
       "2           2    Male  28.0             0              0           never   \n",
       "3           3  Female  36.0             0              0         current   \n",
       "4           4    Male  76.0             1              1         current   \n",
       "\n",
       "     bmi  HbA1c_level  blood_glucose_level  diabetes  \n",
       "0  25.19          6.6                  140         0  \n",
       "1  27.32          6.6                   80         0  \n",
       "2  27.32          5.7                  158         0  \n",
       "3  23.45          5.0                  155         0  \n",
       "4  20.14          4.8                  155         0  "
      ]
     },
     "metadata": {},
     "output_type": "display_data"
    }
   ],
   "source": [
    "train_df = pd.read_csv(\"/kaggle/input/diabetes/train_Data.csv\")\n",
    "test_df  = pd.read_csv(\"/kaggle/input/diabetes/test_Data.csv\")\n",
    "\n",
    "print(\"Train shape:\", train_df.shape)\n",
    "print(\"Test shape :\", test_df.shape)\n",
    "\n",
    "train_df.head()"
   ]
  },
  {
   "cell_type": "markdown",
   "id": "023a91b3",
   "metadata": {},
   "source": [
    "## ***EDA***"
   ]
  },
  {
   "cell_type": "code",
   "execution_count": null,
   "id": "2df21cf8-b121-4e31-9d81-232eeb984b62",
   "metadata": {
    "execution": {
     "iopub.execute_input": "2025-08-31T19:17:17.680240Z",
     "iopub.status.busy": "2025-08-31T19:17:17.679983Z",
     "iopub.status.idle": "2025-08-31T19:17:19.485274Z",
     "shell.execute_reply": "2025-08-31T19:17:19.484456Z",
     "shell.execute_reply.started": "2025-08-31T19:17:17.680220Z"
    },
    "trusted": true
   },
   "outputs": [],
   "source": [
    "print(\"Data Info:\\n\", train_df.info())\n",
    "print(\"Summary Statistics:\\n\", train_df.describe(include=\"all\").T)\n",
    "print(\"Missing Values:\\n\", train_df.isna().sum())\n",
    "print(\"Duplicate Rows:\\n\", train_df.duplicated().sum())"
   ]
  },
  {
   "cell_type": "code",
   "execution_count": null,
   "id": "6944e459",
   "metadata": {},
   "outputs": [],
   "source": [
    "ax = sns.countplot(x=\"diabetes\", data=train_df, stat=\"percent\", palette=\"Set2\")\n",
    "for bar in ax.containers:\n",
    "    ax.bar_label(bar, fmt=\"%.1f%%\")\n",
    "plt.title(\"Distribution of Diabetes Target\")\n",
    "plt.ylabel(\"Percentage %\")\n",
    "plt.show()"
   ]
  },
  {
   "cell_type": "markdown",
   "id": "e2e03cc0",
   "metadata": {},
   "source": [
    "The dataset is imbalanced, this will require balancing during preprocessing."
   ]
  },
  {
   "cell_type": "markdown",
   "id": "f85b5b12",
   "metadata": {},
   "source": [
    "### *Categorical Variables Distribution*"
   ]
  },
  {
   "cell_type": "code",
   "execution_count": null,
   "id": "b146f8ce",
   "metadata": {},
   "outputs": [],
   "source": [
    "cat_cols = [\"gender\", \"smoking_history\"]\n",
    "\n",
    "fig, axes = plt.subplots(1, len(cat_cols), figsize=(12, 4))\n",
    "for i, col in enumerate(cat_cols):\n",
    "    sns.countplot(x=col, data=train_df, ax=axes[i], palette=\"Set2\")\n",
    "    axes[i].set_title(f\"{col} distribution\")\n",
    "    axes[i].tick_params(axis=\"x\", rotation=45)\n",
    "plt.tight_layout()\n",
    "plt.show()"
   ]
  },
  {
   "cell_type": "markdown",
   "id": "b02feba8",
   "metadata": {},
   "source": [
    "### *Numerical Variables Distribution*"
   ]
  },
  {
   "cell_type": "code",
   "execution_count": null,
   "id": "4b040f10",
   "metadata": {},
   "outputs": [],
   "source": [
    "num_cols = [\"age\", \"bmi\", \"HbA1c_level\", \"blood_glucose_level\"]\n",
    "\n",
    "train_df[num_cols].hist(bins=30, figsize=(10, 8), color=\"skyblue\")\n",
    "plt.suptitle(\"Histograms of Numerical Features\", y=1.02)\n",
    "plt.show()"
   ]
  },
  {
   "cell_type": "markdown",
   "id": "9f20e928",
   "metadata": {},
   "source": [
    "### *Correlation Heatmap*"
   ]
  },
  {
   "cell_type": "code",
   "execution_count": null,
   "id": "17a81c56",
   "metadata": {},
   "outputs": [],
   "source": [
    "corr = train_df[num_cols + [\"diabetes\"]].corr()\n",
    "plt.figure(figsize=(8, 6))\n",
    "sns.heatmap(corr, annot=True, cmap=\"coolwarm\", center=0)\n",
    "plt.title(\"Correlation Heatmap\")\n",
    "plt.show()"
   ]
  },
  {
   "cell_type": "markdown",
   "id": "1d203395",
   "metadata": {},
   "source": [
    "### *Checking for Outliers*"
   ]
  },
  {
   "cell_type": "code",
   "execution_count": null,
   "id": "66a4d42b",
   "metadata": {},
   "outputs": [],
   "source": [
    "# Outlier Detection (IQR method)\n",
    "def detect_outliers_iqr(data: pd.Series):\n",
    "    Q1 = data.quantile(0.25)\n",
    "    Q3 = data.quantile(0.75)\n",
    "    IQR = Q3 - Q1\n",
    "    lower_bound = Q1 - 1.5 * IQR\n",
    "    upper_bound = Q3 + 1.5 * IQR\n",
    "    return data[(data < lower_bound) | (data > upper_bound)]\n",
    "\n",
    "# Visualizing outliers per numerical column\n",
    "numeric_cols = train_df.select_dtypes(include=np.number).columns\n",
    "\n",
    "for col in numeric_cols:\n",
    "    plt.figure(figsize=(6, 3))\n",
    "    sns.boxplot(x=train_df[col])\n",
    "    plt.title(f\"Outliers in {col}\")\n",
    "    plt.show()\n",
    "\n",
    "    outliers = detect_outliers_iqr(train_df[col])\n",
    "    print(f\"{col}: {len(outliers)} outliers\")\n"
   ]
  },
  {
   "cell_type": "markdown",
   "id": "90d6e647",
   "metadata": {},
   "source": [
    "## ***Preprocessing***"
   ]
  },
  {
   "cell_type": "markdown",
   "id": "5330a444",
   "metadata": {},
   "source": [
    "Creating function for each preprocessing step in order to optimize the code when applying each step for the train data and test data."
   ]
  },
  {
   "cell_type": "code",
   "execution_count": null,
   "id": "3af04b12",
   "metadata": {},
   "outputs": [],
   "source": [
    "def clean(df: pd.DataFrame) -> pd.DataFrame:\n",
    "    df = df.copy()\n",
    "\n",
    "    # Remove duplicates\n",
    "    df = df.drop_duplicates()\n",
    "\n",
    "    # Fill nulls in categorical\n",
    "    df[\"gender\"] = df[\"gender\"].fillna(\"Unknown\").astype(str)\n",
    "    df[\"smoking_history\"] = df[\"smoking_history\"].fillna(\"Unknown\").astype(str)\n",
    "\n",
    "    # Fill nulls in numeric\n",
    "    for col in [\"age\", \"bmi\", \"HbA1c_level\", \"blood_glucose_level\"]:\n",
    "        df[col] = pd.to_numeric(df[col], errors=\"coerce\")\n",
    "        df[col] = df[col].fillna(df[col].median())\n",
    "\n",
    "    # Clean binary columns\n",
    "    for col in [\"hypertension\", \"heart_disease\", \"diabetes\"]:\n",
    "        if col in df.columns:\n",
    "            df[col] = pd.to_numeric(df[col], errors=\"coerce\").fillna(0).astype(int)\n",
    "\n",
    "    # Outlier capping (IQR)\n",
    "    def cap_outliers(series: pd.Series) -> pd.Series:\n",
    "        Q1, Q3 = series.quantile([0.25, 0.75])\n",
    "        IQR = Q3 - Q1\n",
    "        low, high = Q1 - 1.5 * IQR, Q3 + 1.5 * IQR\n",
    "        return np.clip(series, low, high)\n",
    "\n",
    "    for col in [\"age\", \"bmi\", \"HbA1c_level\", \"blood_glucose_level\"]:\n",
    "        df[col] = cap_outliers(df[col])\n",
    "\n",
    "    return df\n",
    "\n",
    "train_df = clean(train_df)\n",
    "test_df = clean(test_df)"
   ]
  },
  {
   "cell_type": "markdown",
   "id": "f4fce433",
   "metadata": {},
   "source": [
    "#### ***Feature Scaling & Categorical Columns encoding***"
   ]
  },
  {
   "cell_type": "code",
   "execution_count": null,
   "id": "fa1fc286",
   "metadata": {},
   "outputs": [],
   "source": [
    "FEATURES = [\"gender\",\"age\",\"hypertension\",\"heart_disease\",\"smoking_history\",\"bmi\",\"HbA1c_level\",\"blood_glucose_level\"]\n",
    "TARGET = \"diabetes\"\n",
    "\n",
    "X_train, y_train = train_df[FEATURES], train_df[TARGET]\n",
    "X_test, y_test   = test_df[FEATURES], test_df[TARGET]\n",
    "\n",
    "categorical_features = [\"gender\", \"smoking_history\"]\n",
    "numeric_features = [\"age\",\"hypertension\",\"heart_disease\",\"bmi\",\"HbA1c_level\",\"blood_glucose_level\"]\n",
    "\n",
    "preprocessor = ColumnTransformer([\n",
    "    (\"cat\", OneHotEncoder(handle_unknown=\"ignore\"), categorical_features),\n",
    "    (\"num\", StandardScaler(), numeric_features)\n",
    "])\n",
    "\n",
    "X_train_proc = preprocessor.fit_transform(X_train)\n",
    "X_test_proc  = preprocessor.transform(X_test)"
   ]
  },
  {
   "cell_type": "markdown",
   "id": "2d76aba2",
   "metadata": {},
   "source": [
    "### ***Data Oversampling***"
   ]
  },
  {
   "cell_type": "code",
   "execution_count": null,
   "id": "63dbcdd1",
   "metadata": {},
   "outputs": [],
   "source": [
    "sampler = SMOTE(random_state=42)\n",
    "X_res, y_res = sampler.fit_resample(X_train_proc, y_train)\n",
    "print(\"Original dataset shape:\", y_train.value_counts().to_dict())\n",
    "print(\"Resampled dataset shape:\", y_res.value_counts().to_dict())"
   ]
  },
  {
   "cell_type": "markdown",
   "id": "e3d9a38a",
   "metadata": {},
   "source": [
    "## **Model Building, Training, and Evaluation**"
   ]
  },
  {
   "cell_type": "code",
   "execution_count": null,
   "id": "13fb614b",
   "metadata": {},
   "outputs": [],
   "source": [
    "# Helper function to evaluate model directly (for code optimization purposes)\n",
    "def evaluate_model(model, X_test, y_test, model_name=\"Model\"):\n",
    "    y_pred = model.predict(X_test)\n",
    "    y_prob = model.predict_proba(X_test)[:, 1] if hasattr(model, \"predict_proba\") else None\n",
    "\n",
    "    # --- Print metrics ---\n",
    "    print(f\"\\n📌 {model_name} Evaluation:\")\n",
    "    print(\"Accuracy:\", accuracy_score(y_test, y_pred))\n",
    "    print(\"F1-score:\", f1_score(y_test, y_pred, average='macro'))\n",
    "\n",
    "    if y_prob is not None:\n",
    "        print(\"ROC-AUC:\", roc_auc_score(y_test, y_prob))\n",
    "    print(\"\\nClassification Report:\\n\", classification_report(y_test, y_pred))\n",
    "\n",
    "    # --- Confusion Matrix ---\n",
    "    cm = confusion_matrix(y_test, y_pred)\n",
    "    plt.figure(figsize=(5, 4))\n",
    "    sns.heatmap(cm, annot=True, fmt=\"d\", cmap=\"Blues\", cbar=False,\n",
    "                xticklabels=[\"No Diabetes\", \"Diabetes\"],\n",
    "                yticklabels=[\"No Diabetes\", \"Diabetes\"])\n",
    "    plt.title(f\"{model_name} - Confusion Matrix\")\n",
    "    plt.xlabel(\"Predicted\")\n",
    "    plt.ylabel(\"Actual\")\n",
    "    plt.show()"
   ]
  },
  {
   "cell_type": "markdown",
   "id": "9a51bded",
   "metadata": {},
   "source": [
    "## ***Logistic Regression***"
   ]
  },
  {
   "cell_type": "code",
   "execution_count": null,
   "id": "269488fe",
   "metadata": {},
   "outputs": [],
   "source": [
    "log_reg = LogisticRegression(max_iter=1000, random_state=42)\n",
    "log_reg.fit(X_res, y_res)\n",
    "evaluate_model(log_reg, X_test_proc, y_test, \"Logistic Regression\")"
   ]
  },
  {
   "cell_type": "markdown",
   "id": "8a15139a",
   "metadata": {},
   "source": [
    "## ***Decision Tree***"
   ]
  },
  {
   "cell_type": "code",
   "execution_count": null,
   "id": "21f62899",
   "metadata": {},
   "outputs": [],
   "source": [
    "tree = DecisionTreeClassifier(random_state=42)\n",
    "tree.fit(X_res, y_res)\n",
    "evaluate_model(tree, X_test_proc, y_test, \"Decision Tree\")\n"
   ]
  },
  {
   "cell_type": "markdown",
   "id": "9702a5fe",
   "metadata": {},
   "source": [
    "## **Random Forest**"
   ]
  },
  {
   "cell_type": "code",
   "execution_count": null,
   "id": "0d848c42",
   "metadata": {},
   "outputs": [],
   "source": [
    "forest = RandomForestClassifier(n_estimators=100, random_state=42)\n",
    "forest.fit(X_res, y_res)\n",
    "evaluate_model(forest, X_test_proc, y_test, \"Random Forest\")"
   ]
  }
 ],
 "metadata": {
  "kaggle": {
   "accelerator": "gpu",
   "dataSources": [
    {
     "datasetId": 8178522,
     "sourceId": 12924800,
     "sourceType": "datasetVersion"
    }
   ],
   "isGpuEnabled": true,
   "isInternetEnabled": true,
   "language": "python",
   "sourceType": "notebook"
  },
  "kernelspec": {
   "display_name": "Python 3",
   "language": "python",
   "name": "python3"
  },
  "language_info": {
   "codemirror_mode": {
    "name": "ipython",
    "version": 3
   },
   "file_extension": ".py",
   "mimetype": "text/x-python",
   "name": "python",
   "nbconvert_exporter": "python",
   "pygments_lexer": "ipython3",
   "version": "3.11.13"
  }
 },
 "nbformat": 4,
 "nbformat_minor": 5
}
